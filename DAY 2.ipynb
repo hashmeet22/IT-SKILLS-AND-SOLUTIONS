{
 "cells": [
  {
   "cell_type": "code",
   "execution_count": 1,
   "metadata": {},
   "outputs": [],
   "source": [
    "#QUESTION 1: Write a program that accepts a comma separated sequence of words as input and\n",
    "#prints the words in a comma-separated sequence after sorting them alphabetically.\n",
    "#Input: hello, essential, world, python\n",
    "#Output: essential, hello, python, world"
   ]
  },
  {
   "cell_type": "code",
   "execution_count": 25,
   "metadata": {},
   "outputs": [
    {
     "name": "stdout",
     "output_type": "stream",
     "text": [
      "essential,hello,python,world\n"
     ]
    }
   ],
   "source": [
    "def sorted_words(list):\n",
    "    w_words = []\n",
    "    w_words=sorted(list)\n",
    "    return \",\".join(w_words)\n",
    "\n",
    "list=['hello', 'essential', 'world', 'python']\n",
    "print(sorted_words(list))"
   ]
  },
  {
   "cell_type": "code",
   "execution_count": 4,
   "metadata": {},
   "outputs": [],
   "source": [
    "#QUESTION 2:See the following list:list1 = [\"abc\", [2, 3, (\"shivam”, “the trainer\")], 1, 2, 3] Get the string \"trainer\"."
   ]
  },
  {
   "cell_type": "code",
   "execution_count": 42,
   "metadata": {},
   "outputs": [
    {
     "name": "stdout",
     "output_type": "stream",
     "text": [
      "trainer\n"
     ]
    }
   ],
   "source": [
    "l=[\"abc\", [2, 3, (\"shivam\", \"the trainer\")], 1, 2, 3]\n",
    "a=list() \n",
    "a=l[1][2][1]\n",
    "print(a.split()[1])"
   ]
  },
  {
   "cell_type": "code",
   "execution_count": 18,
   "metadata": {},
   "outputs": [],
   "source": [
    "#Question 3: Write a Python program to find the repeated items of a tuple."
   ]
  },
  {
   "cell_type": "code",
   "execution_count": 23,
   "metadata": {},
   "outputs": [
    {
     "name": "stdout",
     "output_type": "stream",
     "text": [
      "3\n"
     ]
    }
   ],
   "source": [
    "a = (2, 4, 5, 6, 2, 3, 4, 4, 7 )\n",
    "b = a.count(4)\n",
    "print(b)"
   ]
  },
  {
   "cell_type": "code",
   "execution_count": 24,
   "metadata": {},
   "outputs": [],
   "source": [
    "#QUESTION 4:Use the list, [1, 2, 4, 5, 1, 1, 4, 1, 56], and find the index of all the 1 elements."
   ]
  },
  {
   "cell_type": "code",
   "execution_count": 20,
   "metadata": {},
   "outputs": [
    {
     "name": "stdout",
     "output_type": "stream",
     "text": [
      "0\n",
      "4\n",
      "5\n",
      "7\n"
     ]
    }
   ],
   "source": [
    "l=[1, 2, 4, 5, 1, 1, 4, 1, 56]\n",
    "for r in l:\n",
    "    if r==1:\n",
    "        print(l.index(1))\n",
    "        l[l.index(1)]=0"
   ]
  },
  {
   "cell_type": "code",
   "execution_count": 1,
   "metadata": {},
   "outputs": [],
   "source": [
    "#QUESTION 5:Write a Python program to compute the similarity between two lists.\n",
    "#Sample data: [\"red\", \"orange\", \"green\", \"blue\", \"white\"], [\"black\", \"yellow\", \"green\",\"blue\"]\n",
    "#Expected Output:\n",
    "# Color1-Color2: ['white', 'orange', 'red']\n",
    "# Color2-Color1: [‘black’, ‘yellow’]"
   ]
  },
  {
   "cell_type": "code",
   "execution_count": 3,
   "metadata": {},
   "outputs": [
    {
     "name": "stdout",
     "output_type": "stream",
     "text": [
      "Color1-Color2:  ['red', 'orange', 'white']\n",
      "Color2-Color1:  ['black', 'yellow']\n"
     ]
    }
   ],
   "source": [
    "from collections import Counter\n",
    "color1 = [\"red\", \"orange\", \"green\", \"blue\", \"white\"]\n",
    "color2 = [\"black\", \"yellow\", \"green\",\"blue\"]\n",
    "counter1 = Counter(color1)\n",
    "counter2 = Counter(color2)\n",
    "print(\"Color1-Color2: \",list(counter1 - counter2))\n",
    "print(\"Color2-Color1: \",list(counter2 - counter1))"
   ]
  },
  {
   "cell_type": "code",
   "execution_count": null,
   "metadata": {},
   "outputs": [],
   "source": []
  }
 ],
 "metadata": {
  "kernelspec": {
   "display_name": "Python 3",
   "language": "python",
   "name": "python3"
  },
  "language_info": {
   "codemirror_mode": {
    "name": "ipython",
    "version": 3
   },
   "file_extension": ".py",
   "mimetype": "text/x-python",
   "name": "python",
   "nbconvert_exporter": "python",
   "pygments_lexer": "ipython3",
   "version": "3.9.1"
  }
 },
 "nbformat": 4,
 "nbformat_minor": 4
}
