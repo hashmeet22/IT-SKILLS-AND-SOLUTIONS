{
 "cells": [
  {
   "cell_type": "code",
   "execution_count": 1,
   "metadata": {},
   "outputs": [],
   "source": [
    "#QUESTION 1:Write a Python program to find numbers between 100 and 400 (both included) \n",
    "#where each digit of a number is an even number. The numbers obtained should be printed in a\n",
    "#comma-separated sequence."
   ]
  },
  {
   "cell_type": "code",
   "execution_count": 7,
   "metadata": {},
   "outputs": [
    {
     "name": "stdout",
     "output_type": "stream",
     "text": [
      "100,102,104,106,108,110,112,114,116,118,120,122,124,126,128,130,132,134,136,138,140,142,144,146,148,150,152,154,156,158,160,162,164,166,168,170,172,174,176,178,180,182,184,186,188,190,192,194,196,198,200,202,204,206,208,210,212,214,216,218,220,222,224,226,228,230,232,234,236,238,240,242,244,246,248,250,252,254,256,258,260,262,264,266,268,270,272,274,276,278,280,282,284,286,288,290,292,294,296,298,300,302,304,306,308,310,312,314,316,318,320,322,324,326,328,330,332,334,336,338,340,342,344,346,348,350,352,354,356,358,360,362,364,366,368,370,372,374,376,378,380,382,384,386,388,390,392,394,396,398,400,"
     ]
    }
   ],
   "source": [
    "for r in range(100,401):\n",
    "    if r%2==0:\n",
    "        print(r,end=\",\")"
   ]
  },
  {
   "cell_type": "code",
   "execution_count": 8,
   "metadata": {},
   "outputs": [],
   "source": [
    "#QUESTION 2:Write a Python program to create the multiplication table (from 1 to 10) of a number."
   ]
  },
  {
   "cell_type": "code",
   "execution_count": 76,
   "metadata": {},
   "outputs": [
    {
     "name": "stdout",
     "output_type": "stream",
     "text": [
      "Enter the number whose table you want to print from (1 to 10)=4\n",
      "4 * 1 = 4\n",
      "4 * 2 = 8\n",
      "4 * 3 = 12\n",
      "4 * 4 = 16\n",
      "4 * 5 = 20\n",
      "4 * 6 = 24\n",
      "4 * 7 = 28\n",
      "4 * 8 = 32\n",
      "4 * 9 = 36\n",
      "4 * 10 = 40\n"
     ]
    }
   ],
   "source": [
    "a=int(input(\"Enter the number whose table you want to print from (1 to 10)=\"))\n",
    "for r in range(1,11):\n",
    "    b=r*a\n",
    "    print(a,\"*\",r,\"=\",b)"
   ]
  },
  {
   "cell_type": "code",
   "execution_count": 11,
   "metadata": {},
   "outputs": [],
   "source": [
    "#QUESTION 3:Write a Program to square each odd number in a list. The list is input by a sequence of comma-separated numbers."
   ]
  },
  {
   "cell_type": "code",
   "execution_count": 13,
   "metadata": {},
   "outputs": [
    {
     "name": "stdout",
     "output_type": "stream",
     "text": [
      "1,25,9,81,49,"
     ]
    }
   ],
   "source": [
    "l=[1,4,5,2,8,10,3,9,6,7]\n",
    "for r in l:\n",
    "    if r%2!=0:\n",
    "        b=r*r\n",
    "        print(b,end=\",\")"
   ]
  },
  {
   "cell_type": "code",
   "execution_count": 14,
   "metadata": {},
   "outputs": [],
   "source": [
    "#QUESTION 4:Write a Python program to match key values in two dictionaries.\n",
    "#Sample dictionary: {'key1': 1, 'key2': 3, 'key3': 2}, {'key1': 1, 'key2': 2}\n",
    "#Expected output: key1: 1 is present in both x and y"
   ]
  },
  {
   "cell_type": "code",
   "execution_count": 75,
   "metadata": {},
   "outputs": [
    {
     "name": "stdout",
     "output_type": "stream",
     "text": [
      "key1\n"
     ]
    }
   ],
   "source": [
    "D1={'key1': 1, 'key2': 3, 'key3': 2}\n",
    "D2={'key1': 1, 'key2': 2}\n",
    "for r1 in D1.keys():\n",
    "    for r2 in D2.keys():\n",
    "        a=D1[r1]\n",
    "        b=D2[r2]\n",
    "        if a==b and r1==r2:\n",
    "            print(r2)"
   ]
  },
  {
   "cell_type": "code",
   "execution_count": 15,
   "metadata": {},
   "outputs": [],
   "source": [
    "#QUESTION 5:Write a program that computes the net amount of a bank account based a transaction log from console input. The transaction log format is shown as following:\n",
    "#D 100 W 200,D means deposit while W means withdrawal.Suppose the following input is supplied to the program:\n",
    "#D 300 D 300 W 200 D 100 .Then, the output should be: 500"
   ]
  },
  {
   "cell_type": "code",
   "execution_count": 55,
   "metadata": {},
   "outputs": [
    {
     "name": "stdout",
     "output_type": "stream",
     "text": [
      "Enter the deposit=300\n",
      "Do you want to enter or more (y/Y)=Y\n",
      "Enter the deposit=300\n",
      "Do you want to enter or more (y/Y)=Y\n",
      "Enter the deposit=100\n",
      "Do you want to enter or more (y/Y)=N\n",
      "[300, 300, 100]\n",
      "Total sum of deposit= 700\n",
      "Enter the withdraw=200\n",
      "Do you want to enter or more (y/Y)=N\n",
      "[200]\n",
      "Total sum of withdraw= 200\n",
      "Net amount= 500\n"
     ]
    }
   ],
   "source": [
    "D1=list()\n",
    "while True:\n",
    "    d=int(input(\"Enter the deposit=\"))\n",
    "    D1.append(d)\n",
    "    a=input(\"Do you want to enter or more (y/Y)=\")\n",
    "    if a=='y' or a=='Y':\n",
    "        continue \n",
    "    else:\n",
    "        break\n",
    "print(D1)    \n",
    "SD1=0\n",
    "for r in D1:\n",
    "    SD1=r+SD1\n",
    "print(\"Total sum of deposit=\",SD1)  \n",
    "\n",
    "W1=list()\n",
    "while True:\n",
    "    w=int(input(\"Enter the withdraw=\"))\n",
    "    W1.append(w)\n",
    "    a=input(\"Do you want to enter or more (y/Y)=\")\n",
    "    if a=='y' or a=='Y':\n",
    "        continue \n",
    "    else:\n",
    "        break\n",
    "print(W1) \n",
    "SW1=0\n",
    "for r in W1:\n",
    "    SW1=r+SW1\n",
    "print(\"Total sum of withdraw=\",SW1)\n",
    "print(\"Net amount=\",SD1-SW1)"
   ]
  }
 ],
 "metadata": {
  "kernelspec": {
   "display_name": "Python 3",
   "language": "python",
   "name": "python3"
  },
  "language_info": {
   "codemirror_mode": {
    "name": "ipython",
    "version": 3
   },
   "file_extension": ".py",
   "mimetype": "text/x-python",
   "name": "python",
   "nbconvert_exporter": "python",
   "pygments_lexer": "ipython3",
   "version": "3.9.1"
  }
 },
 "nbformat": 4,
 "nbformat_minor": 4
}
