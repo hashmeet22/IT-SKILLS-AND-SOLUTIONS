{
 "cells": [
  {
   "cell_type": "code",
   "execution_count": 1,
   "metadata": {},
   "outputs": [],
   "source": [
    "#QUESTION 1:Write a Python function to multiply all the numbers in a list."
   ]
  },
  {
   "cell_type": "code",
   "execution_count": 30,
   "metadata": {},
   "outputs": [
    {
     "name": "stdout",
     "output_type": "stream",
     "text": [
      "3328560\n"
     ]
    }
   ],
   "source": [
    "def sumno(lst):\n",
    "    sum=1\n",
    "    for r in lst:\n",
    "        sum=sum*r\n",
    "    return sum    \n",
    "lst=[1,9,46,3,5,67,8]        \n",
    "print(sumno(lst))    "
   ]
  },
  {
   "cell_type": "code",
   "execution_count": 8,
   "metadata": {},
   "outputs": [],
   "source": [
    "#Question 2: Write a Python function that accepts a string and calculate the number of upper case letters and lower case letters."
   ]
  },
  {
   "cell_type": "code",
   "execution_count": 13,
   "metadata": {},
   "outputs": [
    {
     "name": "stdout",
     "output_type": "stream",
     "text": [
      "My name is Hashmeet Kaur.\n",
      "Upper case letters 3\n",
      "Lower case letters 17\n"
     ]
    }
   ],
   "source": [
    "def counting(string):\n",
    "    u=0\n",
    "    l=0\n",
    "    for r in string:\n",
    "        if r.isupper():\n",
    "            u=u+1\n",
    "        elif r.islower():\n",
    "            l=l+1\n",
    "    print(\"Upper case letters\",u)        \n",
    "    print(\"Lower case letters\",l)\n",
    "string=input(\"Enter the string=\")\n",
    "counting(string)"
   ]
  },
  {
   "cell_type": "code",
   "execution_count": 8,
   "metadata": {},
   "outputs": [],
   "source": [
    "#QUESTION 3:Create a function palindrome_list () that takes list of strings as an argument,returns the list of strings which are only palindrome."
   ]
  },
  {
   "cell_type": "code",
   "execution_count": 39,
   "metadata": {},
   "outputs": [
    {
     "name": "stdout",
     "output_type": "stream",
     "text": [
      "Enter the number=2\n",
      "Enter the string=radar\n",
      "Enter the string=nono\n",
      "radar\n"
     ]
    }
   ],
   "source": [
    "def palindrome_list(l):\n",
    "    res=[]\n",
    "    for i in l:\n",
    "        j=i.lower()\n",
    "        if(j==j[::-1]):\n",
    "            res.append(i)\n",
    "    return res\n",
    "count=int(input(\"Enter the number=\"))\n",
    "input_list=[]\n",
    "for i in range(count):\n",
    "    input_list.append(input(\"Enter the string=\"))\n",
    "result=palindrome_list(input_list)\n",
    "for i in result:\n",
    "    print(i)"
   ]
  },
  {
   "cell_type": "code",
   "execution_count": 10,
   "metadata": {},
   "outputs": [],
   "source": [
    "#QUESTION 4: Write a function filter_long_words () that takes a list of words and an integer n \n",
    "#and returns the list of words that are longer than n."
   ]
  },
  {
   "cell_type": "code",
   "execution_count": 35,
   "metadata": {},
   "outputs": [
    {
     "name": "stdout",
     "output_type": "stream",
     "text": [
      "Enter any word=Bye\n",
      "Do yo want to enter more(y or Y)=y\n",
      "Enter any word=morning\n",
      "Do yo want to enter more(y or Y)=n\n",
      "Enter any number=3\n",
      "['morning']\n"
     ]
    }
   ],
   "source": [
    "def filter_long_words (lst,n):\n",
    "    list2=[]\n",
    "    a=0\n",
    "    for r in lst:\n",
    "        a=len(r)\n",
    "        if a>n:\n",
    "            list2.append(r)\n",
    "    return list2        \n",
    "ch='y'\n",
    "list1=[]\n",
    "word=[]\n",
    "while ch=='y' or ch=='Y':\n",
    "    w=input(\"Enter any word=\")\n",
    "    list1.append(w)\n",
    "    ch=input(\"Do yo want to enter more(y or Y)=\")\n",
    "    continue\n",
    "n=int(input(\"Enter any number=\"))\n",
    "word=filter_long_words(list1,n)\n",
    "print(word)"
   ]
  },
  {
   "cell_type": "code",
   "execution_count": 14,
   "metadata": {},
   "outputs": [],
   "source": [
    "#QUESTION 5: Write a Python program using function concept that maps list of words into a list\n",
    "#of integers representing the lengths of the corresponding words.\n",
    "#Hint: If a list [ab, cde, erty] is passed on to the python function output should come as [2, 3, 4]\n",
    "#Here 2, 3 and 4 are the lengths of the words in the list."
   ]
  },
  {
   "cell_type": "code",
   "execution_count": 37,
   "metadata": {},
   "outputs": [
    {
     "name": "stdout",
     "output_type": "stream",
     "text": [
      "Enter any word=hi\n",
      "Do yo want to enter more(y or Y)=y\n",
      "Enter any word=bye\n",
      "Do yo want to enter more(y or Y)=n\n",
      "['hi', 'bye']\n",
      "[2, 3]\n"
     ]
    }
   ],
   "source": [
    "def length(lst1):\n",
    "    lst2=[]\n",
    "    for r in lst1:\n",
    "        a=len(r)\n",
    "        lst2.append(a)\n",
    "    return lst2    \n",
    "ch='y'\n",
    "lst1=[]\n",
    "lst2=[]\n",
    "while ch=='y' or ch=='Y':\n",
    "    w=input(\"Enter any word=\")\n",
    "    lst1.append(w)\n",
    "    ch=input(\"Do yo want to enter more(y or Y)=\")\n",
    "    continue\n",
    "print(lst1)    \n",
    "lst2=length(lst1)\n",
    "print(lst2)"
   ]
  },
  {
   "cell_type": "code",
   "execution_count": null,
   "metadata": {},
   "outputs": [],
   "source": []
  }
 ],
 "metadata": {
  "kernelspec": {
   "display_name": "Python 3",
   "language": "python",
   "name": "python3"
  },
  "language_info": {
   "codemirror_mode": {
    "name": "ipython",
    "version": 3
   },
   "file_extension": ".py",
   "mimetype": "text/x-python",
   "name": "python",
   "nbconvert_exporter": "python",
   "pygments_lexer": "ipython3",
   "version": "3.9.1"
  }
 },
 "nbformat": 4,
 "nbformat_minor": 4
}
